{
  "nbformat": 4,
  "nbformat_minor": 0,
  "metadata": {
    "colab": {
      "name": "Untitled1.ipynb",
      "provenance": [],
      "collapsed_sections": [],
      "authorship_tag": "ABX9TyPD6QdvRL18CbQFVYtF9TJi",
      "include_colab_link": true
    },
    "kernelspec": {
      "name": "python3",
      "display_name": "Python 3"
    },
    "language_info": {
      "name": "python"
    }
  },
  "cells": [
    {
      "cell_type": "markdown",
      "metadata": {
        "id": "view-in-github",
        "colab_type": "text"
      },
      "source": [
        "<a href=\"https://colab.research.google.com/github/Zzya124/-.-./blob/main/Untitled1.ipynb\" target=\"_parent\"><img src=\"https://colab.research.google.com/assets/colab-badge.svg\" alt=\"Open In Colab\"/></a>"
      ]
    },
    {
      "cell_type": "markdown",
      "metadata": {
        "id": "1TvIL8TBDHJj"
      },
      "source": [
        "# Зуев Роман Евгеньевич КИ19-20Б"
      ]
    },
    {
      "cell_type": "markdown",
      "metadata": {
        "id": "N708o2ZPDjIw"
      },
      "source": [
        "# Данные "
      ]
    },
    {
      "cell_type": "code",
      "metadata": {
        "id": "1QYQHgojCyf8"
      },
      "source": [
        "import pandas as pd\n",
        "%load_ext google.colab.data_table\n",
        "data1 = pd.read_csv(\"/content/sample_data/california_housing_test.csv\")\n",
        "print(data1)\n",
        "data1.describe()"
      ],
      "execution_count": null,
      "outputs": []
    },
    {
      "cell_type": "markdown",
      "metadata": {
        "id": "QI_OgHsGDO3l"
      },
      "source": [
        "# Форма выбора и представления датафрейма"
      ]
    },
    {
      "cell_type": "code",
      "metadata": {
        "id": "VcJmmqZ_Ciag"
      },
      "source": [
        "#@title CheckCSV\n",
        "#@markdown —-\n",
        "File = \"mnist_Test\"#@param [\"mnist_Test\",\"california\"]\n",
        "WithGoogleTable = True #@param {type:\"boolean\"}\n",
        "if File == \"mnist_Test\" and WithGoogleTable == True:\n",
        " %load_ext google.colab.data_table\n",
        " data1 = pd.read_csv(\"/content/sample_data/mnist_test.csv\",header=None)\n",
        "elif File == \"mnist_Test\" and WithGoogleTable == False:\n",
        " data1 = pd.read_csv(\"/content/sample_data/mnist_test.csv\",header=None)\n",
        "elif File == \"california\" and WithGoogleTable == True:\n",
        " %load_ext google.colab.data_table\n",
        " data1 = pd.read_csv(\"/content/sample_data/california_housing_test.csv\")\n",
        "else:\n",
        " data1 = pd.read_csv(\"/content/sample_data/california_housing_test.csv\")"
      ],
      "execution_count": null,
      "outputs": []
    },
    {
      "cell_type": "markdown",
      "metadata": {
        "id": "kBAFkCZkDbKT"
      },
      "source": [
        "# Виджет button"
      ]
    },
    {
      "cell_type": "code",
      "metadata": {
        "id": "l3URE8miCuTM"
      },
      "source": [
        "#@title Check dataframe\n",
        "#@markdown ---\n",
        "from IPython.display import display as dp\n",
        "import ipywidgets as wd\n",
        "import pandas as pd\n",
        "\n",
        "data1 = pd.read_csv(\"/content/sample_data/california_housing_test.csv\")\n",
        "%load_ext google.colab.data_table\n",
        "\n",
        "info = wd.Button(description = 'Show dataframe')\n",
        "output = wd.Output()\n",
        "info1 = wd.Button(description = 'Show info data')\n",
        "output1 = wd.Output()\n",
        "dp(info,output)\n",
        "dp(info1,output1)\n",
        "\n",
        "def infoshow(x):\n",
        "  with output:\n",
        "    output.clear_output()\n",
        "    print(data1)\n",
        "def infoshow1(x):\n",
        "  with output:\n",
        "    output.clear_output()\n",
        "    data1.info()\n",
        "\n",
        "info.on_click(infoshow)\n",
        "info1.on_click(infoshow1)"
      ],
      "execution_count": null,
      "outputs": []
    }
  ]
}